{
 "cells": [
  {
   "cell_type": "code",
   "execution_count": null,
   "id": "ff717665",
   "metadata": {},
   "outputs": [],
   "source": [
    "#Import dependencies\n",
    "import pandas as pd\n",
    "from sqlalchemy import create_engine"
   ]
  },
  {
   "cell_type": "code",
   "execution_count": null,
   "id": "808ba296",
   "metadata": {},
   "outputs": [],
   "source": [
    "#Read resources\n",
    "CA_videos = pd.read_csv('Resources/CAvideos.csv')\n",
    "US_videos = pd.read_csv('Resources/USvideos.csv')\n",
    "CA_category_id = pd.read_json('Resources/CA_category_id.json')\n",
    "US_category_id = pd.read_json('Resources/US_category_id.json')"
   ]
  },
  {
   "cell_type": "code",
   "execution_count": null,
   "id": "312b25ff",
   "metadata": {},
   "outputs": [],
   "source": [
    "#Jumaan start here"
   ]
  },
  {
   "cell_type": "code",
   "execution_count": null,
   "id": "d2cb6883",
   "metadata": {},
   "outputs": [],
   "source": [
    "#Check the columns on US_videos\n",
    "US_videos.head()"
   ]
  },
  {
   "cell_type": "code",
   "execution_count": null,
   "id": "76b56368",
   "metadata": {},
   "outputs": [],
   "source": [
    "#Drop unnecessary columns\n",
    "US_videos_new = US_videos[['title', 'channel_title', 'category_id', 'views', 'likes', 'dislikes', 'comment_count']]\n",
    "US_videos_new.head()"
   ]
  },
  {
   "cell_type": "code",
   "execution_count": null,
   "id": "a9d55f58",
   "metadata": {},
   "outputs": [],
   "source": [
    "#Check for duplicates and drop any duplicate rows\n",
    "print(len(US_videos_new)) \n",
    "print(len(US_videos_new['title']))"
   ]
  },
  {
   "cell_type": "code",
   "execution_count": null,
   "id": "b2462eae",
   "metadata": {},
   "outputs": [],
   "source": [
    "#Check the columns on US_category_id\n",
    "US_category_id.head()"
   ]
  },
  {
   "cell_type": "code",
   "execution_count": null,
   "id": "ef67cb37",
   "metadata": {},
   "outputs": [],
   "source": [
    "#Turn items column into a list\n",
    "US_category_id_list = US_category_id['items'].tolist()\n",
    "\n",
    "#Loop through the list and extract category id and title\n",
    "category_id = []\n",
    "category_title = []\n",
    "\n",
    "for category in US_category_id_list:\n",
    "    category_id.append(int(category['id']))\n",
    "    category_title.append(category['snippet']['title'])\n",
    "\n",
    "#Store the information in a datagrame\n",
    "US_categories = pd.DataFrame({\"category_title\": category_title, \"category_id\": category_id})\n",
    "\n",
    "US_categories.head()"
   ]
  },
  {
   "cell_type": "code",
   "execution_count": null,
   "id": "d3661911",
   "metadata": {},
   "outputs": [],
   "source": [
    "#Merge both dataframes on category_id\n",
    "US_merged = pd.merge(US_videos_new, US_categories, on=\"category_id\", how=\"inner\")\n",
    "US_merged.head()"
   ]
  },
  {
   "cell_type": "code",
   "execution_count": null,
   "id": "0d815223",
   "metadata": {},
   "outputs": [],
   "source": [
    "#Jumaan end here"
   ]
  },
  {
   "cell_type": "code",
   "execution_count": null,
   "id": "11b329bd",
   "metadata": {},
   "outputs": [],
   "source": [
    "#Shrey start here"
   ]
  },
  {
   "cell_type": "code",
   "execution_count": null,
   "id": "279525ca",
   "metadata": {},
   "outputs": [],
   "source": [
    "#Shrey end here"
   ]
  },
  {
   "cell_type": "code",
   "execution_count": null,
   "id": "1de5a41e",
   "metadata": {},
   "outputs": [],
   "source": [
    "#Anji start here"
   ]
  },
  {
   "cell_type": "code",
   "execution_count": null,
   "id": "303a93ef",
   "metadata": {},
   "outputs": [],
   "source": [
    "#Anji end here"
   ]
  }
 ],
 "metadata": {
  "kernelspec": {
   "display_name": "Python 3",
   "language": "python",
   "name": "python3"
  },
  "language_info": {
   "codemirror_mode": {
    "name": "ipython",
    "version": 3
   },
   "file_extension": ".py",
   "mimetype": "text/x-python",
   "name": "python",
   "nbconvert_exporter": "python",
   "pygments_lexer": "ipython3",
   "version": "3.8.8"
  }
 },
 "nbformat": 4,
 "nbformat_minor": 5
}
